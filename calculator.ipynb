{
 "cells": [
  {
   "cell_type": "code",
   "execution_count": 6,
   "id": "e3ed9063-30bd-4ff7-95b0-90dba7de46f6",
   "metadata": {},
   "outputs": [],
   "source": [
    "import customtkinter as ctk\n",
    "import math\n",
    "\n",
    "def on_button_click(value):\n",
    "    current_text = entry.get()\n",
    "    if value == \"=\":\n",
    "        try:\n",
    "            result = eval(current_text)\n",
    "            entry.delete(0, ctk.END)\n",
    "            entry.insert(0, str(result))\n",
    "        except Exception:\n",
    "            entry.delete(0, ctk.END)\n",
    "            entry.insert(0, \"Error\")\n",
    "    elif value == \"sqrt\":\n",
    "        try:\n",
    "            result = math.sqrt(float(current_text))\n",
    "            entry.delete(0, ctk.END)\n",
    "            entry.insert(0, str(result))\n",
    "        except Exception:\n",
    "            entry.delete(0, ctk.END)\n",
    "            entry.insert(0, \"Error\")\n",
    "    elif value == \"C\":\n",
    "        entry.delete(0, ctk.END)\n",
    "    else:\n",
    "        entry.insert(ctk.END, value)\n",
    "\n",
    "root = ctk.CTk()\n",
    "root.title(\"Custom Calculator\")\n",
    "\n",
    "# Create the entry widget\n",
    "entry = ctk.CTkEntry(root, font=(\"Arial\", 20), justify=\"right\")\n",
    "entry.grid(row=0, column=0, columnspan=4, padx=10, pady=10)\n",
    "\n",
    "# Define button labels\n",
    "buttons = [\n",
    "    \"7\", \"8\", \"9\", \"/\",\n",
    "    \"4\", \"5\", \"6\", \"*\",\n",
    "    \"1\", \"2\", \"3\", \"-\",\n",
    "    \"0\", \".\", \"=\", \"+\",\n",
    "    \"sqrt\", \"%\", \"C\"  \n",
    "]\n",
    "\n",
    "# Create buttons\n",
    "for i, label in enumerate(buttons):\n",
    "    row = i // 4 + 1\n",
    "    col = i % 4\n",
    "    btn = ctk.CTkButton(root, text=label, font=(\"Arial\", 22), command=lambda val=label: on_button_click(val))\n",
    "    btn.grid(row=row, column=col, padx=5, pady=5)\n",
    "\n",
    "root.mainloop()\n"
   ]
  },
  {
   "cell_type": "code",
   "execution_count": null,
   "id": "10eec730-7926-4da0-87bc-f38437891056",
   "metadata": {},
   "outputs": [],
   "source": []
  }
 ],
 "metadata": {
  "kernelspec": {
   "display_name": "Python 3 (ipykernel)",
   "language": "python",
   "name": "python3"
  },
  "language_info": {
   "codemirror_mode": {
    "name": "ipython",
    "version": 3
   },
   "file_extension": ".py",
   "mimetype": "text/x-python",
   "name": "python",
   "nbconvert_exporter": "python",
   "pygments_lexer": "ipython3",
   "version": "3.11.1"
  }
 },
 "nbformat": 4,
 "nbformat_minor": 5
}
