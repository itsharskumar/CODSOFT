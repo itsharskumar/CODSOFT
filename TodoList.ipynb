{
 "cells": [
  {
   "cell_type": "code",
   "execution_count": 1,
   "id": "20c4df85-45e1-4118-92f0-824885435e70",
   "metadata": {},
   "outputs": [
    {
     "ename": "SystemExit",
     "evalue": "0",
     "output_type": "error",
     "traceback": [
      "An exception has occurred, use %tb to see the full traceback.\n",
      "\u001b[1;31mSystemExit\u001b[0m\u001b[1;31m:\u001b[0m 0\n"
     ]
    },
    {
     "name": "stderr",
     "output_type": "stream",
     "text": [
      "c:\\Users\\91914\\AppData\\Local\\Programs\\Python\\Python311\\Lib\\site-packages\\IPython\\core\\interactiveshell.py:3585: UserWarning: To exit: use 'exit', 'quit', or Ctrl-D.\n",
      "  warn(\"To exit: use 'exit', 'quit', or Ctrl-D.\", stacklevel=1)\n"
     ]
    }
   ],
   "source": [
    "import sys\n",
    "from PyQt5.QtWidgets import QApplication, QLineEdit, QMainWindow, QLabel, QPushButton, QVBoxLayout, QWidget, QListWidget, QListWidgetItem\n",
    "from PyQt5.QtCore import Qt\n",
    "from PyQt5.QtGui import QFont, QColor\n",
    "\n",
    "class ToDoApp(QMainWindow):\n",
    "    def __init__(self):\n",
    "        super().__init__()\n",
    "        self.setWindowTitle(\"To-Do List\")\n",
    "        self.resize(700, 500)\n",
    "\n",
    "        screen_geometry = QApplication.desktop().screenGeometry()\n",
    "        self.move((screen_geometry.width() - self.width()) // 2, (screen_geometry.height() - self.height()) // 2)\n",
    "\n",
    "        central_widget = QWidget(self)\n",
    "        self.setCentralWidget(central_widget)\n",
    "\n",
    "        # Create and style label\n",
    "        self.label = QLabel(\"To-Do List\", self)\n",
    "        self.label.setAlignment(Qt.AlignCenter)\n",
    "        self.label.setFont(QFont(\"Raleway\", 18, QFont.Bold))  # Increased font size\n",
    "        self.label.setStyleSheet(\"color: #2E8B57;\")  # Forest green color\n",
    "        \n",
    "        # Create and style task entry\n",
    "        self.task_entry = QLineEdit(self)\n",
    "        self.task_entry.setPlaceholderText(\"Enter your task here...\")\n",
    "        self.task_entry.setStyleSheet(\"background-color: #F5F5F5; border: 1px solid #DCDCDC; border-radius: 5px; padding: 5px;\")\n",
    "        \n",
    "        # Create and style add button\n",
    "        self.add_button = QPushButton(\"Add Task\", self)\n",
    "        self.add_button.setFont(QFont(\"Arial\", 12, QFont.Bold))  # Changed font to Arial\n",
    "        self.add_button.setStyleSheet(\"background-color: #4682B4; color: white; border-radius: 5px; padding: 10px;\")\n",
    "        \n",
    "        # Create and style task list\n",
    "        self.task_list = QListWidget(self)\n",
    "        self.task_list.setStyleSheet(\"background-color: #FFFFFF; border: 1px solid #DCDCDC;\")\n",
    "        \n",
    "        # Add some padding and spacing\n",
    "        layout = QVBoxLayout()\n",
    "        layout.addWidget(self.label)\n",
    "        layout.addWidget(self.task_entry)\n",
    "        layout.addWidget(self.add_button)\n",
    "        layout.addWidget(self.task_list)\n",
    "        central_widget.setLayout(layout)\n",
    "\n",
    "        self.add_button.clicked.connect(self.add_task)\n",
    "        self.task_list.itemDoubleClicked.connect(self.remove_task)\n",
    "\n",
    "    def add_task(self):\n",
    "        task = self.task_entry.text()\n",
    "        if task:\n",
    "            item = QListWidgetItem(task)\n",
    "            item.setFlags(Qt.ItemIsUserCheckable | Qt.ItemIsEnabled)\n",
    "            item.setCheckState(Qt.Unchecked)\n",
    "            item.setBackground(QColor(\"#F0F8FF\"))  # Alice blue background for tasks\n",
    "            self.task_list.addItem(item)\n",
    "            self.task_entry.clear()\n",
    "\n",
    "    def remove_task(self, item):\n",
    "        row = self.task_list.row(item)\n",
    "        self.task_list.takeItem(row)\n",
    "\n",
    "if __name__ == \"__main__\":\n",
    "    app = QApplication(sys.argv)\n",
    "    window = ToDoApp()\n",
    "    window.show()\n",
    "    sys.exit(app.exec_())\n",
    "\n"
   ]
  },
  {
   "cell_type": "code",
   "execution_count": null,
   "id": "60cbf98d-6f4c-426e-9f49-abd42932197b",
   "metadata": {},
   "outputs": [],
   "source": []
  }
 ],
 "metadata": {
  "kernelspec": {
   "display_name": "Python 3 (ipykernel)",
   "language": "python",
   "name": "python3"
  },
  "language_info": {
   "codemirror_mode": {
    "name": "ipython",
    "version": 3
   },
   "file_extension": ".py",
   "mimetype": "text/x-python",
   "name": "python",
   "nbconvert_exporter": "python",
   "pygments_lexer": "ipython3",
   "version": "3.11.1"
  }
 },
 "nbformat": 4,
 "nbformat_minor": 5
}
